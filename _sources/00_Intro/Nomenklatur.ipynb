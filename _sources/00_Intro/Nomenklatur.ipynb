{
 "cells": [
  {
   "cell_type": "markdown",
   "id": "a5474f49-e636-4a81-b79c-39f3e13367da",
   "metadata": {},
   "source": [
    "# Nomenklatur"
   ]
  },
  {
   "cell_type": "markdown",
   "id": "359aca76-ecee-452d-8929-e3777f86cd67",
   "metadata": {},
   "source": [
    "| **Begriffe** | **Erklärung**                                                            |\n",
    "|:--------------|--------------------------------------------------------------------------|\n",
    "| KI           | künstliche Intelligenz                                                   |\n",
    "| Neuronen     | Knotenpunkte einer Schicht im Netzwerk                                   |\n",
    "| KNN          | künstliches neuronales Netz                                 |\n",
    "| CNN          | Convolutional neural network                                             |\n",
    "| Epoch        | einmaliger Durchlauf des gesamten Datensatzes                            |\n",
    "| Label        | Klasse eines Bildes                                                      |\n",
    "| Batch        | Teil des Datensatzes, nach deren Durchlauf die Gewichte angepasst werden |"
   ]
  }
 ],
 "metadata": {
  "kernelspec": {
   "display_name": "Python 3 (ipykernel)",
   "language": "python",
   "name": "python3"
  },
  "language_info": {
   "codemirror_mode": {
    "name": "ipython",
    "version": 3
   },
   "file_extension": ".py",
   "mimetype": "text/x-python",
   "name": "python",
   "nbconvert_exporter": "python",
   "pygments_lexer": "ipython3",
   "version": "3.7.11"
  }
 },
 "nbformat": 4,
 "nbformat_minor": 5
}
