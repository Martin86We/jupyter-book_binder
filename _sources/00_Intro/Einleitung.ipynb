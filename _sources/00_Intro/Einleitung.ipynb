{
 "cells": [
  {
   "cell_type": "markdown",
   "id": "88bfa3c6-dfe2-4042-befc-599f8e0549a6",
   "metadata": {},
   "source": [
    "# Einleitung"
   ]
  },
  {
   "cell_type": "markdown",
   "id": "7f94ad07-93b7-4dff-a932-8ab3453c94d4",
   "metadata": {},
   "source": [
    "Die KI basierte Bilderkennung stellt ein sehr wirksames Werkzeug dar.\n",
    "Obwohl neuronale Netze bereits vor Jahrzehnten entwickelt wurden, ist es erst in jüngster Zeit möglich, Objekte unter schwierigen Umständen und aus wechselnden Winkeln zu erkennen. Der Hauptgrund dafür sind rasante Fortschritte bei der Hardware.\n",
    "\n",
    "Durch Bilderkennung lassen sich Objekte sicher identifizieren, trotz Schatten, Lichteinflüsse oder gemusterte Bildhintergründe.\n",
    "\n",
    "Mit der klassischen Bildverarbeitung (Computer Vision) ist das alles nicht oder nur mit großem Aufwand zu erreichen. Zudem ist die Einrichtung von Systemen der Bilderkennung schneller durchführbar, als bei den bisher gängigen Methoden der Bildverarbeitung."
   ]
  },
  {
   "cell_type": "markdown",
   "id": "405ec438-4446-4187-869e-812a563301d4",
   "metadata": {},
   "source": [
    "Entscheidend für die flexiblere visuelle Analyse durch Bilderkennung ist die Nutzung von künstlichen neuronalen Netzen (KNN). Denn im Unterschied zur Bildverarbeitung, orientiert sich die Bilderkennung nicht an fest programmierten Regeln, wie etwa der Form, Anzahl oder Lage von Objekten. Vielmehr erlernt der Computer durch Bildbeispiele, Objekte ähnlich wie ein Mensch an gemeinsamen Merkmalen zu identifizieren. "
   ]
  },
  {
   "cell_type": "markdown",
   "id": "e802dfbb-b00e-4934-aab3-c0ea4e4d7708",
   "metadata": {},
   "source": [
    "Zum Beispiel erkennt ein Mensch Schrauben unabhängig von der Lage, der Größe, der Kopfform und Gewindelänge. Auch spezielle Schraubenformen wie Gewindestifte, Rändelschrauben und Schraubhaken erkennt der Mensch als Schraube. Ein KI-System kann durch maschinelles Lernen eine fast so hohe Erkennungsrate wie ein Mensch erreichen. Dazu genügt es, ausreichend viele Bilder von Schrauben unterschiedlichen Typs auszuwerten. Dadurch erfasst die KI, welche Merkmale zum Typ „Schraube“ gehören."
   ]
  },
  {
   "cell_type": "markdown",
   "id": "49e3c8d5-b629-46ae-82ec-800be83cc414",
   "metadata": {},
   "source": [
    "Durch maschinelles Lernen lässt sich ein Computer auch darauf trainieren, Objekte von Schatten und Hintergrund zu unterscheiden. Durch diese Eigenschaft kann KI-basierte Bilderkennung unstrukturierte Bilder und Live-Videos auswerten, bei denen die Objekte nicht gleichförmig positioniert wurden. Menschen machen das unbewusst. Doch für die einfache Bildverarbeitung stellt das ein schwer überwindbares Hindernis dar. \n",
    "\n",
    "Zu den typischen Anwendungen der industriellen Bilderkennung zählen zum Beispiel:\n",
    "- Oberflächenprüfung\n",
    "- Vermessung von Größen und Formen\n",
    "- Vollständigkeitsprüfung\n",
    "- Objekterkennung\n",
    "- Lage- und Positionserkennung"
   ]
  },
  {
   "cell_type": "markdown",
   "id": "12693e60-f596-44dd-be25-5654d7abe485",
   "metadata": {},
   "source": [
    "Auch die Entwicklung von Software gestaltet sich für KI-basierte Bilderkennungssysteme einfacher. Denn die Algorithmen der Bilderkennung bleiben gleich. Sie werden lediglich für neue Prüfaufgaben mit Musterbildern gespeist, wobei ein menschlicher Tutor die Bilder bewertet. Je nach Aufgabe können die Prüfobjekte aus unterschiedlichen Blickwinkeln und vor verschiedenen Hintergründen dargestellt werden."
   ]
  },
  {
   "cell_type": "markdown",
   "id": "7c18669f-6f95-4709-a04e-4e5c69894a35",
   "metadata": {},
   "source": [
    "Das Prinzip des maschinellen Lernens anhand von Beispielen, Automatisierungen und hierarchischer Merkmalsextraktion, zusammengefasst als Deep Learning bezeichnet, bildet hierbei die Grundlage der Bildverarbeitung. (vgl. [elunic](https://www.elunic.com/de/wie-ki-basierte-bilderkennung-die-qualitaetssicherung-veraendert/#:~:text=Das%20Prinzip%20der%20Bilderkennung%20mittels,rasante%20Fortschritte%20bei%20der%20Hardware.))"
   ]
  },
  {
   "cell_type": "markdown",
   "id": "f51dddbd-597c-4be1-bcf9-9ff60f3a22cb",
   "metadata": {},
   "source": [
    "## Ziel"
   ]
  },
  {
   "cell_type": "markdown",
   "id": "e68223b9-bf9c-4db7-993d-f6bcdf1ffda9",
   "metadata": {},
   "source": [
    "Neuronale Netze sind für viele Fachbereiche ein immer wichtiger werdendes Thema. Diese Masterarbeit hat das Ziel zu zeigen, dass es auch mit einfachen Mitteln möglich ist, einen umfangreichen Datensatz zu erzeugen und ein neuronales Netz (NN) darauf zu trainieren.\n",
    "Der Weg vom Datensatz zum NN soll dabei möglichst einfach und intuitiv dargestellt werden, um auch ohne tiefgreifendes Vorwissen ein Verständnis über neuronale Netze zu entwickeln."
   ]
  },
  {
   "cell_type": "markdown",
   "id": "8d2451ad-adb6-4de4-8495-bf5f964eefba",
   "metadata": {},
   "source": [
    "```{epigraph}\n",
    "Auch ist das Suchen und Irren gut, denn durch Suchen und Irren lernt man.\n",
    "\n",
    "-- Johann Wolfgang Goethe\n",
    "```\n",
    "\n",
    "{cite:p}`Kersken`\n",
    "\n"
   ]
  },
  {
   "cell_type": "markdown",
   "id": "6b825fb7-fe82-4db1-adb4-2aa1ddcd4782",
   "metadata": {
    "tags": []
   },
   "source": [
    "## Jupyter Book"
   ]
  },
  {
   "cell_type": "markdown",
   "id": "04ebbfab-83c0-454a-b132-441f1792d9c7",
   "metadata": {},
   "source": [
    "Das Format, in dem diese Masterarbeit verfasst ist, ist ein [Jupyter Book](https://jupyterbook.org/intro.html). Ein neues Open-Source-Projekt zum druckreifen Veröffentlichen rechnergestützter technischer und insbesondere ausführbarer Inhalte in Buch- und HTML-Form. So ist es möglich, die Abschnitte dieses Buchs, die Code enthalten, interaktiv auszuführen, zu reproduzieren und zu ändern."
   ]
  },
  {
   "cell_type": "code",
   "execution_count": 2,
   "id": "7c3e84c1-68a7-4819-a913-f6e31d6a507c",
   "metadata": {},
   "outputs": [
    {
     "name": "stdout",
     "output_type": "stream",
     "text": [
      "Hello World\n"
     ]
    }
   ],
   "source": [
    "print('Hello World')"
   ]
  },
  {
   "cell_type": "markdown",
   "id": "ca6303c4-e86f-4000-b19b-bd54fee3aab1",
   "metadata": {
    "tags": []
   },
   "source": [
    "## Aufbau"
   ]
  },
  {
   "cell_type": "markdown",
   "id": "3d66cab3-0333-4ad8-9667-fae4b0914437",
   "metadata": {},
   "source": [
    "Im [ersten Kapitel](dataset) werden zwei verschiedene Datensätze erzeugt. \n",
    "- Der [erste Datensatz](dataset1) wird durch \"Data Augmentation\" erzeugt, d.$~$h. die Trainingsbilder werden künstlich erzeugt.  \n",
    "\n",
    "- Der [zweite Datensatz](dataset2) wird aus echten Fotos erzeugt, die mit einer Smartphone-Kamera aufgenommen wurden.  \n",
    "\n",
    "Das [zweite Kapitel](neural_net) beschreibt die Funktionsweise von neuronalen Netzen. Es wird gezeigt, wie ein einzelnes künstliches Neuron funktioniert und wie viele solcher Neuronen zu einem neuronalen Netz verschaltet werden.  \n",
    "\n",
    "Das [dritte Kapitel](cnn) beschäftigt sich mit \"Convolutional Neural Nets\", es wird gezeigt wie CNNs funktionieren und weshalb diese so leistungsfähig sind."
   ]
  },
  {
   "cell_type": "code",
   "execution_count": null,
   "id": "59a89b30-0d4c-4acb-9a47-1378e71189e8",
   "metadata": {},
   "outputs": [],
   "source": []
  }
 ],
 "metadata": {
  "kernelspec": {
   "display_name": "Python 3 (ipykernel)",
   "language": "python",
   "name": "python3"
  },
  "language_info": {
   "codemirror_mode": {
    "name": "ipython",
    "version": 3
   },
   "file_extension": ".py",
   "mimetype": "text/x-python",
   "name": "python",
   "nbconvert_exporter": "python",
   "pygments_lexer": "ipython3",
   "version": "3.7.11"
  }
 },
 "nbformat": 4,
 "nbformat_minor": 5
}
