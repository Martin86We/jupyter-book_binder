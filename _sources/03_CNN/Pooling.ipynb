{
 "cells": [
  {
   "cell_type": "markdown",
   "id": "5fac7c74-1204-4a6e-ad8d-342b05d1d809",
   "metadata": {},
   "source": [
    "# Pooling Layer"
   ]
  },
  {
   "cell_type": "markdown",
   "id": "5b039f18-7906-438b-8990-b45f572200dc",
   "metadata": {},
   "source": [
    "Ein Pooling Layer, hat die Aufgabe, das CNN \"toleranter\" gegen geringe Abweichungen zu machen. Im folgenden Beispiel wurde die Kante stückweise um insgesamt 2 Pixel nach rechts verschoben. Auf einem Bild sollte es für das Erkennen keine so große Rolle spielen, aber für den Convolutional-Layer spielt es eine Rolle in den Ergebnissen. Es ist nicht tolerant gegenüber Verschiebungen was in der Abbildung [Kantenerkennung mit Pooling](no_pooling) ersichtlich wird."
   ]
  },
  {
   "cell_type": "markdown",
   "id": "2ca12744-fc57-4e56-b50e-c2d15be16c9b",
   "metadata": {},
   "source": [
    "**Jede Verschiebung der senkrechten Kante, erzeugt eine andere Featur-Map:**"
   ]
  },
  {
   "cell_type": "markdown",
   "id": "a167031f-3cff-4f10-b00c-84fe8030eb99",
   "metadata": {},
   "source": [
    ":::{figure-md} no_pooling\n",
    "<img src=\"images/pooling_1.png\" alt=\"pozi\" class=\"bg-primary mb-1\" width=\"1000px\">\n",
    "\n",
    "Kantenerkennung ohne Pooling.\n",
    ":::"
   ]
  },
  {
   "cell_type": "markdown",
   "id": "096cd319-7363-44bd-bb6a-fd9d19046a88",
   "metadata": {},
   "source": [
    ":::{figure-md} pooling_on\n",
    "<img src=\"images/pooling_2.png\" alt=\"pozi\" class=\"bg-primary mb-1\" width=\"1000px\">\n",
    "\n",
    "Kantenerkennung mit Pooling.\n",
    ":::"
   ]
  },
  {
   "cell_type": "markdown",
   "id": "eb758fbe-f4b6-4cd2-8c65-50eb079bb5ba",
   "metadata": {},
   "source": [
    "In der Abbildung [Kantenerkennung mit Pooling](pooling_on) wird ein 2x2 Pooling-Filter verwendet. Ein Pixel kann sich im grün abgegrenzten Bereich bewegen, ohne, dass sich die Feature-Map ändert. Es wird lediglich der größte Wert (Max-Pooling) verwendet und in die Feature-Map übernommen. Das bewirkt eine Toleranz des Modells gegenüber Lageabweichungen von Objekten in den Bildern."
   ]
  },
  {
   "cell_type": "markdown",
   "id": "9e2efacf-76bb-437a-b5fd-11b31a9ed695",
   "metadata": {},
   "source": [
    "**Vorteile vom Pooling:**\n",
    "- bessere Generalisierung\n",
    "- geringere Anzahl an Ausgabeknoten durch Dimensionsreduktion\n",
    "- beschleunigt Lernvorgang"
   ]
  }
 ],
 "metadata": {
  "kernelspec": {
   "display_name": "Python 3 (ipykernel)",
   "language": "python",
   "name": "python3"
  },
  "language_info": {
   "codemirror_mode": {
    "name": "ipython",
    "version": 3
   },
   "file_extension": ".py",
   "mimetype": "text/x-python",
   "name": "python",
   "nbconvert_exporter": "python",
   "pygments_lexer": "ipython3",
   "version": "3.7.11"
  }
 },
 "nbformat": 4,
 "nbformat_minor": 5
}
